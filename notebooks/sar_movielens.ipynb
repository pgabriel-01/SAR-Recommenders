{
 "cells": [
  {
   "cell_type": "markdown",
   "metadata": {},
   "source": [
    "# Train SAR on MovieLens with Azure Machine Learning (Python, CPU)\n",
    "---\n",
    "## Introduction to Azure Machine Learning  \n",
    "The **[Azure Machine Learning service (AzureML)](https://docs.microsoft.com/azure/machine-learning/service/overview-what-is-azure-ml)** provides a cloud-based environment you can use to prep data, train, test, deploy, manage, and track machine learning models. By using Azure Machine Learning service, you can start training on your local machine and then scale out to the cloud. With many available compute targets, like [Azure Machine Learning Compute](https://docs.microsoft.com/en-us/azure/machine-learning/service/how-to-set-up-training-targets#amlcompute) and [Azure Databricks](https://docs.microsoft.com/en-us/azure/azure-databricks/what-is-azure-databricks), and with [advanced hyperparameter tuning services](https://docs.microsoft.com/en-us/azure/machine-learning/service/how-to-tune-hyperparameters), you can build better models faster by using the power of the cloud.\n",
    "\n",
    "Data scientists and AI developers use the main [Azure Machine Learning Python SDK](https://docs.microsoft.com/en-us/python/api/overview/azure/ml/intro?view=azure-ml-py) to build and run machine learning workflows with the Azure Machine Learning service. You can interact with the service in any Python environment, including Jupyter Notebooks or your favorite Python IDE. The Azure Machine Learning SDK allows you the choice of using local or cloud compute resources, while managing and maintaining the complete data science workflow from the cloud.\n",
    "![AzureML Workflow](https://docs.microsoft.com/en-us/azure/machine-learning/service/media/overview-what-is-azure-ml/aml.png)\n",
    "\n",
    "This notebook provides an example of how to utilize and evaluate the Simple Algorithm for Recommendation (SAR) algorithm using the Azure Machine Learning service. It takes the content of the [SAR quickstart notebook](sar_movielens.ipynb) and demonstrates how to use the power of the cloud to manage data, switch to powerful GPU machines, and monitor runs while training a model. \n",
    "\n",
    "See the hyperparameter tuning notebook for more advanced use cases with AzureML.\n",
    "\n",
    "### Advantages of using AzureML:\n",
    "- Manage cloud resources for monitoring, logging, and organizing your machine learning experiments.\n",
    "- Train models either locally or by using cloud resources, including GPU-accelerated model training.\n",
    "- Easy to scale out when dataset grows - by just creating and pointing to new compute target\n",
    "\n",
    "---\n",
    "## Details of SAR\n",
    "<details>\n",
    "    <summary>Click to expand</summary>\n",
    "    \n",
    "SAR is a fast scalable adaptive algorithm for personalized recommendations based on user transaction history. It produces easily explainable / interpretable recommendations and handles \"cold item\" and \"semi-cold user\" scenarios. SAR is a kind of neighborhood based algorithm (as discussed in [Recommender Systems by Aggarwal](https://dl.acm.org/citation.cfm?id=2931100)) which is intended for ranking top items for each user. \n",
    "\n",
    "SAR recommends items that are most ***similar*** to the ones that the user already has an existing ***affinity*** for. Two items are ***similar*** if the users who have interacted with one item are also likely to have interacted with another. A user has an ***affinity*** to an item if they have interacted with it in the past.\n",
    "\n",
    "### Advantages of SAR:\n",
    "- High accuracy for an easy to train and deploy algorithm\n",
    "- Fast training, only requiring simple counting to construct matrices used at prediction time\n",
    "- Fast scoring, only involving multiplication of the similarity matric with an affinity vector\n",
    "\n",
    "### Notes to use SAR properly:\n",
    "- SAR does not use item or user features, so cannot handle cold-start use cases\n",
    "- SAR requires the creation of an $mxm$ dense matrix (where $m$ is the number of items). So memory consumption can be an issue with large numbers of items.\n",
    "- SAR is best used for ranking items per user, as the scale of predicted ratings may be different from the input range and will differ across users.\n",
    "For more details see the deep dive notebook on SAR here: [SAR Deep Dive Notebook](../02_model_collaborative_filtering/sar_deep_dive.ipynb)</details>\n",
    "---\n",
    "## Prerequisities\n",
    "   - **Azure Subscription**\n",
    "     - If you don’t have an Azure subscription, create a free account before you begin. Try the [free or paid version of Azure Machine Learning service today](https://azure.microsoft.com/en-us/free/services/machine-learning/).\n",
    "     - You get credits to spend on Azure services, which will easily cover the cost of running this example notebook. After they're used up, you can keep the account and use [free Azure services](https://azure.microsoft.com/en-us/free/). Your credit card is never charged unless you explicitly change your settings and ask to be charged. Or [activate MSDN subscriber benefits](https://azure.microsoft.com/en-us/pricing/member-offers/credit-for-visual-studio-subscribers/), which give you credits every month that you can use for paid Azure services.\n",
    "---   "
   ]
  },
  {
   "cell_type": "code",
   "execution_count": 1,
   "metadata": {},
   "outputs": [],
   "source": [
    "# set the environment path to find Recommenders\n",
    "import os\n",
    "import shutil\n",
    "import numpy as np\n",
    "from tempfile import TemporaryDirectory\n",
    "from recommenders.datasets import movielens"
   ]
  },
  {
   "cell_type": "code",
   "execution_count": 2,
   "metadata": {},
   "outputs": [],
   "source": [
    "# top k items to recommend\n",
    "TOP_K = 10\n",
    "\n",
    "# Select Movielens data size: 100k, 1m, 10m, or 20m\n",
    "MOVIELENS_DATA_SIZE = '100k'"
   ]
  },
  {
   "cell_type": "markdown",
   "metadata": {},
   "source": [
    "### Connect to an AzureML workspace\n",
    "\n",
    "An [AzureML Workspace](https://docs.microsoft.com/en-us/python/api/azureml-core/azureml.core.workspace.workspace?view=azure-ml-py) is an Azure resource that organizes and coordinates the actions of many other Azure resources to assist in executing and sharing machine learning workflows. In particular, an Azure ML Workspace coordinates storage, databases, and compute resources providing added functionality for machine learning experimentation, deployment, inferencing, and the monitoring of deployed models.\n",
    "\n",
    "The function below will get or create an AzureML Workspace and save the configuration to `aml_config/config.json`.\n",
    "\n",
    "It defaults to use provided input parameters or environment variables for the Workspace configuration values. Otherwise, it will use an existing configuration file (either at `./aml_config/config.json` or a path specified by the config_path parameter).\n",
    "\n",
    "Lastly, if the workspace does not exist, one will be created for you. See [this tutorial](https://docs.microsoft.com/en-us/azure/machine-learning/service/setup-create-workspace#portal) to locate information such as subscription id."
   ]
  },
  {
   "cell_type": "code",
   "execution_count": 59,
   "metadata": {},
   "outputs": [
    {
     "name": "stderr",
     "output_type": "stream",
     "text": [
      "Found the config file in: /mnt/batch/tasks/shared/LS_root/mounts/clusters/activate-training-02-vm/code/Users/pgabriel/SAR-Recommenders/aml_config/config.json\n"
     ]
    }
   ],
   "source": [
    "from azure.ai.ml import MLClient\n",
    "from azure.ai.ml.entities import Workspace, Data, Datastore\n",
    "from azure.identity import DefaultAzureCredential\n",
    "from azure.ai.ml.constants import AssetTypes\n",
    "import mlflow\n",
    "\n",
    "ml_client = MLClient.from_config(credential=DefaultAzureCredential())\n",
    "\n",
    "azureml_mlflow_uri = ml_client.workspaces.get(ml_client.workspace_name).mlflow_tracking_uri\n",
    "\n",
    "mlflow.set_tracking_uri(azureml_mlflow_uri)\n",
    "\n",
    "datastore = ml_client.datastores.get(name='workspaceblobstore')"
   ]
  },
  {
   "cell_type": "markdown",
   "metadata": {},
   "source": [
    "### Set experiment name\n",
    "All MLflow runs are logged to the active experiment. By default, runs are logged to an experiment named Default that is automatically created for you. To configure the experiment you want to work on use MLflow command mlflow.set_experiment()."
   ]
  },
  {
   "cell_type": "code",
   "execution_count": null,
   "metadata": {},
   "outputs": [],
   "source": [
    "experiment_name = 'SAR-movielens-job'\n",
    "mlflow.set_experiment(experiment_name)"
   ]
  },
  {
   "cell_type": "markdown",
   "metadata": {},
   "source": [
    "### Create a Temporary Directory\n",
    "This directory will house the data and scripts needed by the AzureML Workspace"
   ]
  },
  {
   "cell_type": "code",
   "execution_count": 4,
   "metadata": {},
   "outputs": [],
   "source": [
    "tmp_dir = TemporaryDirectory()"
   ]
  },
  {
   "cell_type": "markdown",
   "metadata": {},
   "source": [
    "### Download dataset and upload to datastore\n",
    "\n",
    "Every workspace comes with a default [datastore](https://docs.microsoft.com/en-us/azure/machine-learning/service/how-to-access-data) (and you can register more) which is backed by the Azure blob storage account associated with the workspace. We can use it to transfer data from local to the cloud, and access it from the compute target.\n",
    "\n",
    "The data files are uploaded into a directory named `data` at the root of the datastore."
   ]
  },
  {
   "cell_type": "code",
   "execution_count": 5,
   "metadata": {},
   "outputs": [
    {
     "name": "stderr",
     "output_type": "stream",
     "text": [
      "100%|████████████████████████████████████████████████████████████████████████████████████████████████████████████████████████████████████████████████████████████████████████████████████████████████████████████████████████████████████████████████████████████████████████████████████████████████████████████████████████████████████████████████████████████████████████████████████████████████████████████████████████████████████████████████████████████████████████████████████████████████████████████████████████████████████████████████████████████████████████████████████████████████████████████████████████████████████████████████████████████████████████████████████████████████████████████████████████████████████████████████████████████████████████████████████████████████████████████████████████████████████████████████████████████████████████████████████████████████████████████████████████████████████████████████████████████████████████████████████████████| 4.81k/4.81k [00:00<00:00, 33.3kKB/s]\n"
     ]
    }
   ],
   "source": [
    "TARGET_DIR = 'movielens'\n",
    "\n",
    "# download dataset\n",
    "data = movielens.load_pandas_df(\n",
    "    size=MOVIELENS_DATA_SIZE,\n",
    "    header=['UserId','MovieId','Rating','Timestamp']\n",
    ")\n",
    "\n",
    "# upload dataset to workspace datastore\n",
    "data_file_name = \"movielens_\" + MOVIELENS_DATA_SIZE + \"_data.csv\"\n",
    "# data.to_pickle(os.path.join(tmp_dir.name, data_file_name))\n",
    "data.to_csv(os.path.join(tmp_dir.name, data_file_name))\n"
   ]
  },
  {
   "cell_type": "code",
   "execution_count": 12,
   "metadata": {},
   "outputs": [
    {
     "data": {
      "text/plain": [
       "Data({'skip_validation': False, 'mltable_schema_url': None, 'referenced_uris': None, 'type': 'uri_file', 'is_anonymous': False, 'auto_increment_version': False, 'name': 'movielens-100k-dataset', 'description': 'Movielens size 100k', 'tags': {'Source': 'Recommenders', 'Format': 'CSV'}, 'properties': {}, 'id': '/subscriptions/b068fa50-ccf9-4b66-88e6-659b8f777d02/resourceGroups/ActivateAzureML-RG/providers/Microsoft.MachineLearningServices/workspaces/ActivateAzureML-WS/data/movielens-100k-dataset/versions/0.0.2', 'Resource__source_path': None, 'base_path': '/mnt/batch/tasks/shared/LS_root/mounts/clusters/activate-training-02-vm/code/Users/pgabriel/SAR-Recommenders/notebooks', 'creation_context': <azure.ai.ml._restclient.v2022_05_01.models._models_py3.SystemData object at 0x7f5232d6e0a0>, 'serialize': <msrest.serialization.Serializer object at 0x7f5232d78160>, 'version': '0.0.2', 'latest_version': None, 'path': 'azureml://subscriptions/b068fa50-ccf9-4b66-88e6-659b8f777d02/resourcegroups/ActivateAzureML-RG/workspaces/ActivateAzureML-WS/datastores/workspaceblobstore/paths/LocalUpload/c76b2867718e84dca2bc5ee0bdcaf731/movielens_100k_data.csv'})"
      ]
     },
     "execution_count": 12,
     "metadata": {},
     "output_type": "execute_result"
    }
   ],
   "source": [
    "import csv\n",
    "\n",
    "ds = datastore\n",
    "my_path = os.path.join(tmp_dir.name, data_file_name)\n",
    "\n",
    "my_data = Data(\n",
    "    path=my_path,\n",
    "    type=AssetTypes.URI_FILE,\n",
    "    description= \"Movielens size \" + MOVIELENS_DATA_SIZE,\n",
    "    name=\"movielens-\"+ MOVIELENS_DATA_SIZE + \"-dataset\",\n",
    "    version='0.0.2',\n",
    "    tags={\n",
    "        \"Source\":\"Recommenders\",\n",
    "        \"Format\":\"CSV\",\n",
    "    }\n",
    ")\n",
    "\n",
    "ml_client.data.create_or_update(my_data)\n"
   ]
  },
  {
   "cell_type": "markdown",
   "metadata": {},
   "source": [
    "### Create or Attach Azure Machine Learning Compute \n",
    "\n",
    "We create a cpu cluster as our **remote compute target**. If a cluster with the same name already exists in your workspace, the script will load it instead. You can read [Set up compute targets for model training](https://docs.microsoft.com/en-us/azure/machine-learning/service/how-to-set-up-training-targets) to learn more about setting up compute target on different locations. You can also create GPU machines when larger machines are necessary to train the model.\n",
    "\n",
    "According to Azure [Pricing calculator](https://azure.microsoft.com/en-us/pricing/calculator/), with example VM size `STANDARD_D2_V2`, it costs a few dollars to run this notebook, which is well covered by Azure new subscription credit. For billing and pricing questions, please contact [Azure support](https://azure.microsoft.com/en-us/support/options/).\n",
    "\n",
    "**Note**:\n",
    "- 10m and 20m dataset requires more capacity than `STANDARD_D2_V2`, such as `STANDARD_NC6` or `STANDARD_NC12`. See list of all available VM sizes [here](https://docs.microsoft.com/en-us/azure/templates/Microsoft.Compute/2018-10-01/virtualMachines?toc=%2Fen-us%2Fazure%2Fazure-resource-manager%2Ftoc.json&bc=%2Fen-us%2Fazure%2Fbread%2Ftoc.json#hardwareprofile-object).\n",
    "- As with other Azure services, there are limits on certain resources (e.g. AzureML Compute quota) associated with the Azure Machine Learning service. Please read [these instructions](https://docs.microsoft.com/en-us/azure/azure-supportability/resource-manager-core-quotas-request) on the default limits and how to request more quota.\n",
    "---\n",
    "#### Learn more about Azure Machine Learning Compute\n",
    "<details>\n",
    "    <summary>Click to learn more about compute types</summary>\n",
    "    \n",
    "[Azure Machine Learning Compute](https://docs.microsoft.com/en-us/azure/machine-learning/service/how-to-set-up-training-targets#amlcompute) is managed compute infrastructure that allows the user to easily create single to multi-node compute of the appropriate VM Family. It is created within your workspace region and is a resource that can be used by other users in your workspace. It autoscales by default to the max_nodes, when a job is submitted, and executes in a containerized environment packaging the dependencies as specified by the user.\n",
    "\n",
    "Since it is managed compute, job scheduling and cluster management are handled internally by Azure Machine Learning service.\n",
    "\n",
    "You can provision a persistent AzureML Compute resource by simply defining two parameters thanks to smart defaults. By default it autoscales from 0 nodes and provisions dedicated VMs to run your job in a container. This is useful when you want to continously re-use the same target, debug it between jobs or simply share the resource with other users of your workspace.\n",
    "\n",
    "In addition to vm_size and max_nodes, you can specify:\n",
    "- **min_nodes**: Minimum nodes (default 0 nodes) to downscale to while running a job on AzureML Compute\n",
    "- **vm_priority**: Choose between 'dedicated' (default) and 'lowpriority' VMs when provisioning AzureML Compute. Low Priority VMs use Azure's excess capacity and are thus cheaper but risk your run being pre-empted\n",
    "- **idle_seconds_before_scaledown**: Idle time (default 120 seconds) to wait after run completion before auto-scaling to min_nodes\n",
    "- **vnet_resourcegroup_name**: Resource group of the existing VNet within which Azure MLCompute should be provisioned\n",
    "- **vnet_name**: Name of VNet\n",
    "- **subnet_name**: Name of SubNet within the VNet\n",
    "</details>\n",
    "---"
   ]
  },
  {
   "cell_type": "code",
   "execution_count": 13,
   "metadata": {},
   "outputs": [
    {
     "data": {
      "text/plain": [
       "AmlCompute({'type': 'amlcompute', 'created_on': None, 'provisioning_state': 'Succeeded', 'provisioning_errors': None, 'name': 'cpu-cluster', 'description': None, 'tags': {}, 'properties': {}, 'id': '/subscriptions/b068fa50-ccf9-4b66-88e6-659b8f777d02/resourceGroups/activateazureml-rg/providers/Microsoft.MachineLearningServices/workspaces/activateazureml-ws/computes/cpu-cluster', 'Resource__source_path': None, 'base_path': '/mnt/batch/tasks/shared/LS_root/mounts/clusters/activate-training-02-vm/code/Users/pgabriel/SAR-Recommenders/notebooks', 'creation_context': None, 'serialize': <msrest.serialization.Serializer object at 0x7f5232d74d90>, 'resource_id': None, 'location': 'northcentralus', 'size': 'STANDARD_D2_V2', 'min_instances': 0, 'max_instances': 4, 'idle_time_before_scale_down': 1800.0, 'identity': None, 'ssh_public_access_enabled': True, 'ssh_settings': None, 'network_settings': None, 'tier': 'dedicated'})"
      ]
     },
     "execution_count": 13,
     "metadata": {},
     "output_type": "execute_result"
    }
   ],
   "source": [
    "from azure.ai.ml.entities import AmlCompute\n",
    "cpu_cluster_name = \"cpu-cluster\"\n",
    "cluster_basic = AmlCompute(\n",
    "    name=cpu_cluster_name,\n",
    "    type=\"amlcompute\",\n",
    "    size=\"STANDARD_DS3_v2\",\n",
    "    max_instances=4\n",
    ")\n",
    "ml_client.begin_create_or_update(cluster_basic)"
   ]
  },
  {
   "cell_type": "markdown",
   "metadata": {},
   "source": [
    "# Prepare training script\n",
    "### 1. Create a directory\n",
    "Create a directory that will contain all the necessary code from your local machine that you will need access to on the remote resource. This includes the training script, and any additional files your training script depends on."
   ]
  },
  {
   "cell_type": "code",
   "execution_count": 14,
   "metadata": {},
   "outputs": [],
   "source": [
    "SCRIPT_DIR = os.path.join(tmp_dir.name, 'movielens-sar')\n",
    "os.makedirs(SCRIPT_DIR, exist_ok=True)\n",
    "TRAIN_FILE = os.path.join(SCRIPT_DIR, 'train.py')"
   ]
  },
  {
   "cell_type": "markdown",
   "metadata": {},
   "source": [
    "### 2. Create a training script\n",
    "To submit the job to the cluster, first create a training script. Run the following code to create the training script called `train.py` in temporary directory. This training adds a regularization rate to the training algorithm, so produces a slightly different model than the local version.\n",
    "\n",
    "This code takes what is in the local quickstart and convert it to one single training script. We use run.log() to record parameters to the run. We will be able to review and compare these measures in the Azure Portal at a later time."
   ]
  },
  {
   "cell_type": "code",
   "execution_count": 61,
   "metadata": {},
   "outputs": [
    {
     "name": "stdout",
     "output_type": "stream",
     "text": [
      "Overwriting /tmp/tmp2vid6oks/movielens-sar/train.py\n"
     ]
    }
   ],
   "source": [
    "%%writefile $TRAIN_FILE\n",
    "\n",
    "import argparse\n",
    "import os\n",
    "import numpy as np\n",
    "import pandas as pd\n",
    "import itertools\n",
    "import logging\n",
    "\n",
    "# from azureml.core import Run\n",
    "import mlflow\n",
    "from sklearn.externals import joblib\n",
    "\n",
    "from recommenders.utils.timer import Timer\n",
    "from recommenders.datasets import movielens\n",
    "from recommenders.datasets.python_splitters import python_stratified_split\n",
    "from recommenders.evaluation.python_evaluation import map_at_k, ndcg_at_k, precision_at_k, recall_at_k\n",
    "from recommenders.models.sar import SAR\n",
    "\n",
    "\n",
    "logging.basicConfig(level=logging.DEBUG, \n",
    "                    format='%(asctime)s %(levelname)-8s %(message)s')\n",
    "\n",
    "\n",
    "TARGET_DIR = 'movielens'\n",
    "OUTPUT_FILE_NAME = 'outputs/movielens_sar_model.pkl'\n",
    "MODEL_FILE_NAME = 'movielens_sar_model.pkl'\n",
    "\n",
    "\n",
    "# get hold of the current run\n",
    "# run = Run.get_context()\n",
    "mlflow.autolog()\n",
    "\n",
    "# let user feed in 2 parameters, the location of the data files (from datastore), and the regularization rate of the logistic regression model\n",
    "parser = argparse.ArgumentParser()\n",
    "parser.add_argument('--data_folder', type=str, dest='data_folder', help='data folder mounting point')\n",
    "parser.add_argument('data_file', type=str, dest='data_file', help='data file name')\n",
    "parser.add_argument('top_k', type=int, dest='top_k', default=10, help='top k items to recommend')\n",
    "parser.add_argument('data_size', type=str, dest='data_size', default=10, help='Movielens data size: 100k, 1m, 10m, or 20m')\n",
    "args = parser.parse_args()\n",
    "\n",
    "# set col names\n",
    "header = {\n",
    "    \"col_user\": \"UserId\",\n",
    "    \"col_item\": \"MovieId\",\n",
    "    \"col_rating\": \"Rating\",\n",
    "    \"col_timestamp\": \"Timestamp\",\n",
    "}\n",
    "\n",
    "# read data\n",
    "data_pickle_path = os.path.join(args.data_folder, args.data_file)\n",
    "data = pd.read_pickle(path=data_pickle_path)\n",
    "\n",
    "# # Log arguments to the run for tracking\n",
    "# mlflow.log_metric(\"top-k\", args.top_k)\n",
    "# mlflow.log_metric(\"data-size\", args.data_size)\n",
    "mlflow.log_param(\"top-k\", args.top_k)\n",
    "mlflow.log_param(\"data-size\", args.data_size)\n",
    "\n",
    "# split dataset into train and test\n",
    "train, test = python_stratified_split(data, ratio=0.75, col_user=header[\"col_user\"], col_item=header[\"col_item\"], seed=42)\n",
    "\n",
    "# instantiate the model\n",
    "model = SAR(\n",
    "    similarity_type=\"jaccard\", \n",
    "    time_decay_coefficient=30, \n",
    "    time_now=None, \n",
    "    timedecay_formula=True, \n",
    "    **header\n",
    ")\n",
    "\n",
    "# train the SAR model\n",
    "with Timer() as t:\n",
    "    model.fit(train)\n",
    "\n",
    "mlflow.log_metric(name=\"Training time\", value=t.interval)\n",
    "\n",
    "# predict top k items\n",
    "with Timer() as t:\n",
    "    top_k = model.recommend_k_items(test, top_k=TOP_K, remove_seen=True)\n",
    "\n",
    "mlflow.log_metric(name=\"Prediction time\", value=t.interval)\n",
    "\n",
    "# compute evaluation metrics\n",
    "eval_map = map_at_k(test, top_k, col_user=\"UserId\", col_item=\"MovieId\", \n",
    "                    col_rating=\"Rating\", col_prediction=\"prediction\", \n",
    "                    relevancy_method=\"top_k\", k=args.top_k)\n",
    "eval_ndcg = ndcg_at_k(test, top_k, col_user=\"UserId\", col_item=\"MovieId\", \n",
    "                      col_rating=\"Rating\", col_prediction=\"prediction\", \n",
    "                      relevancy_method=\"top_k\", k=args.top_k)\n",
    "eval_precision = precision_at_k(test, top_k, col_user=\"UserId\", col_item=\"MovieId\", \n",
    "                                col_rating=\"Rating\", col_prediction=\"prediction\", \n",
    "                                relevancy_method=\"top_k\", k=args.top_k)\n",
    "eval_recall = recall_at_k(test, top_k, col_user=\"UserId\", col_item=\"MovieId\", \n",
    "                          col_rating=\"Rating\", col_prediction=\"prediction\", \n",
    "                          relevancy_method=\"top_k\", k=args.top_k)\n",
    "\n",
    "mlflow.log_metric(\"map\", eval_map)\n",
    "mlflow.log_metric(\"ndcg\", eval_ndcg)\n",
    "mlflow.log_metric(\"precision\", eval_precision)\n",
    "mlflow.log_metric(\"recall\", eval_recall)\n",
    "\n",
    "# automatic upload of everything in ./output folder doesn't work for very large model file\n",
    "# model file has to be saved to a temp location, then uploaded by upload_file function\n",
    "joblib.dump(value=model, filename=MODEL_FILE_NAME)\n",
    "\n",
    "mlflow.log_artifact(OUTPUT_FILE_NAME, MODEL_FILE_NAME)"
   ]
  },
  {
   "cell_type": "code",
   "execution_count": 62,
   "metadata": {},
   "outputs": [
    {
     "data": {
      "text/plain": [
       "'/tmp/tmp2vid6oks/movielens-sar/recommenders'"
      ]
     },
     "execution_count": 62,
     "metadata": {},
     "output_type": "execute_result"
    }
   ],
   "source": [
    "# copy dependent python files\n",
    "UTILS_DIR = os.path.join(SCRIPT_DIR, 'recommenders')\n",
    "if os.path.exists(UTILS_DIR):\n",
    "    shutil.rmtree(UTILS_DIR)\n",
    "shutil.copytree('../recommenders/', UTILS_DIR)"
   ]
  },
  {
   "cell_type": "markdown",
   "metadata": {},
   "source": [
    "# Run training script\n",
    "In this tutorial, this target is AzureML Compute Cluster. All files in the script folder are uploaded into the cluster nodes for execution. `ds.as_mount()` mounts a datastore on the remote compute and returns the folder. See documentation [here](https://docs.microsoft.com/en-us/azure/machine-learning/service/how-to-access-data#access-datastores-during-training)."
   ]
  },
  {
   "cell_type": "code",
   "execution_count": 45,
   "metadata": {},
   "outputs": [],
   "source": [
    "# script_params = {\n",
    "#     '--data-folder': ds.container_name,\n",
    "#     '--data-file': 'movielens/' + data_file_name,\n",
    "#     '--top-k': TOP_K,\n",
    "#     '--data-size': MOVIELENS_DATA_SIZE\n",
    "# }"
   ]
  },
  {
   "cell_type": "code",
   "execution_count": 63,
   "metadata": {},
   "outputs": [],
   "source": [
    "\n",
    "ENV_FILE = os.path.join(SCRIPT_DIR, 'environment.yml')"
   ]
  },
  {
   "cell_type": "code",
   "execution_count": 64,
   "metadata": {},
   "outputs": [
    {
     "data": {
      "text/plain": [
       "Environment({'is_anonymous': False, 'auto_increment_version': False, 'name': 'docker-image-plus-conda-example', 'description': 'Environment created from a Docker image plus Conda environment.', 'tags': {}, 'properties': {}, 'id': '/subscriptions/b068fa50-ccf9-4b66-88e6-659b8f777d02/resourceGroups/ActivateAzureML-RG/providers/Microsoft.MachineLearningServices/workspaces/ActivateAzureML-WS/environments/docker-image-plus-conda-example/versions/2', 'Resource__source_path': None, 'base_path': '/mnt/batch/tasks/shared/LS_root/mounts/clusters/activate-training-02-vm/code/Users/pgabriel/SAR-Recommenders/notebooks', 'creation_context': <azure.ai.ml._restclient.v2022_05_01.models._models_py3.SystemData object at 0x7f5215102610>, 'serialize': <msrest.serialization.Serializer object at 0x7f52151b1730>, 'version': '2', 'latest_version': None, 'conda_file': {'channels': ['defaults'], 'dependencies': ['_libgcc_mutex=0.1=main', '_openmp_mutex=5.1=1_gnu', 'argon2-cffi=21.3.0=pyhd3eb1b0_0', 'argon2-cffi-bindings=21.2.0=py39h7f8727e_0', 'asttokens=2.0.5=pyhd3eb1b0_0', 'attrs=21.4.0=pyhd3eb1b0_0', 'backcall=0.2.0=pyhd3eb1b0_0', 'beautifulsoup4=4.11.1=py39h06a4308_0', 'bleach=4.1.0=pyhd3eb1b0_0', 'ca-certificates=2022.07.19=h06a4308_0', 'certifi=2022.6.15=py39h06a4308_0', 'cffi=1.15.1=py39h74dc2b5_0', 'debugpy=1.5.1=py39h295c915_0', 'decorator=5.1.1=pyhd3eb1b0_0', 'defusedxml=0.7.1=pyhd3eb1b0_0', 'entrypoints=0.4=py39h06a4308_0', 'executing=0.8.3=pyhd3eb1b0_0', 'ipykernel=6.15.2=py39h06a4308_0', 'ipython=8.4.0=py39h06a4308_0', 'ipython_genutils=0.2.0=pyhd3eb1b0_1', 'jedi=0.18.1=py39h06a4308_1', 'jinja2=3.0.3=pyhd3eb1b0_0', 'jsonschema=4.4.0=py39h06a4308_0', 'jupyter_client=7.3.5=py39h06a4308_0', 'jupyter_core=4.10.0=py39h06a4308_0', 'jupyterlab_pygments=0.1.2=py_0', 'ld_impl_linux-64=2.38=h1181459_1', 'libffi=3.3=he6710b0_2', 'libgcc-ng=11.2.0=h1234567_1', 'libgomp=11.2.0=h1234567_1', 'libsodium=1.0.18=h7b6447c_0', 'libstdcxx-ng=11.2.0=h1234567_1', 'markupsafe=2.1.1=py39h7f8727e_0', 'matplotlib-inline=0.1.6=py39h06a4308_0', 'mistune=0.8.4=py39h27cfd23_1000', 'nbclient=0.5.13=py39h06a4308_0', 'nbconvert=6.4.4=py39h06a4308_0', 'nbformat=5.3.0=py39h06a4308_0', 'ncurses=6.3=h5eee18b_3', 'nest-asyncio=1.5.5=py39h06a4308_0', 'notebook=6.4.12=py39h06a4308_0', 'openssl=1.1.1q=h7f8727e_0', 'packaging=21.3=pyhd3eb1b0_0', 'pandocfilters=1.5.0=pyhd3eb1b0_0', 'parso=0.8.3=pyhd3eb1b0_0', 'pexpect=4.8.0=pyhd3eb1b0_3', 'pickleshare=0.7.5=pyhd3eb1b0_1003', 'prometheus_client=0.14.1=py39h06a4308_0', 'prompt-toolkit=3.0.20=pyhd3eb1b0_0', 'psutil=5.9.0=py39h5eee18b_0', 'ptyprocess=0.7.0=pyhd3eb1b0_2', 'pure_eval=0.2.2=pyhd3eb1b0_0', 'pycparser=2.21=pyhd3eb1b0_0', 'pygments=2.11.2=pyhd3eb1b0_0', 'pyparsing=3.0.9=py39h06a4308_0', 'pyrsistent=0.18.0=py39heee7806_0', 'python=3.9.4=hdb3f193_0', 'python-dateutil=2.8.2=pyhd3eb1b0_0', 'python-fastjsonschema=2.16.2=py39h06a4308_0', 'pyzmq=23.2.0=py39h6a678d5_0', 'readline=8.1.2=h7f8727e_1', 'send2trash=1.8.0=pyhd3eb1b0_1', 'six=1.16.0=pyhd3eb1b0_1', 'soupsieve=2.3.1=pyhd3eb1b0_0', 'sqlite=3.39.2=h5082296_0', 'stack_data=0.2.0=pyhd3eb1b0_0', 'terminado=0.13.1=py39h06a4308_0', 'testpath=0.6.0=py39h06a4308_0', 'tk=8.6.12=h1ccaba5_0', 'tornado=6.2=py39h5eee18b_0', 'traitlets=5.1.1=pyhd3eb1b0_0', 'typing-extensions=4.3.0=py39h06a4308_0', 'typing_extensions=4.3.0=py39h06a4308_0', 'tzdata=2022c=h04d1e81_0', 'wcwidth=0.2.5=pyhd3eb1b0_0', 'webencodings=0.5.1=py39h06a4308_1', 'wheel=0.37.1=pyhd3eb1b0_0', 'xz=5.2.5=h7f8727e_1', 'zeromq=4.3.4=h2531618_0', 'zlib=1.2.12=h5eee18b_3', {'pip': ['adal==1.2.7', 'alembic==1.8.1', 'ansiwrap==0.8.4', 'applicationinsights==0.11.10', 'argcomplete==2.0.0', 'azure-ai-ml==0.1.0b6', 'azure-common==1.1.28', 'azure-core==1.25.1', 'azure-graphrbac==0.61.1', 'azure-identity==1.7.0', 'azure-mgmt-authorization==2.0.0', 'azure-mgmt-containerregistry==10.0.0', 'azure-mgmt-core==1.3.2', 'azure-mgmt-cosmosdb==0.16.0', 'azure-mgmt-keyvault==10.1.0', 'azure-mgmt-resource==21.1.0', 'azure-mgmt-storage==19.1.0', 'azure-ml==0.0.1', 'azure-storage-blob==12.12.0', 'azure-storage-file-datalake==12.7.0', 'azure-storage-file-share==12.8.0', 'azureml-core==1.45.0.post1', 'azureml-dataprep==4.5.7', 'azureml-dataprep-native==38.0.0', 'azureml-dataprep-rslex==2.11.4', 'azureml-mlflow==1.45.0', 'backports-tempfile==1.0', 'backports-weakref==1.0.post1', 'bcrypt==4.0.0', 'bottleneck==1.3.5', 'brotli==1.0.9', 'category-encoders==1.3.0', 'charset-normalizer==2.1.1', 'click==8.1.3', 'cloudpickle==2.2.0', 'colorama==0.4.4', 'configargparse==1.5.3', 'contextlib2==21.6.0', 'cornac==1.14.2', 'cryptography==37.0.4', 'cycler==0.11.0', 'databricks-cli==0.17.3', 'distro==1.7.0', 'docker==5.0.3', 'dotnetcore2==3.1.23', 'exceptiongroup==1.0.0rc9', 'filelock==3.8.0', 'flask==1.1.2', 'flask-basicauth==0.2.0', 'flask-cors==3.0.10', 'fonttools==4.37.2', 'future==0.18.2', 'gevent==21.12.0', 'geventhttpclient==2.0.2', 'gitdb==4.0.9', 'gitpython==3.1.27', 'greenlet==1.1.3', 'gunicorn==20.1.0', 'huggingface-hub==0.9.1', 'humanfriendly==10.0', 'hyperopt==0.2.7', 'hypothesis==6.54.5', 'idna==3.4', 'importlib-metadata==4.12.0', 'ipywidgets==8.0.2', 'isodate==0.6.1', 'itsdangerous==2.1.2', 'jeepney==0.8.0', 'jmespath==1.0.1', 'joblib==1.1.0', 'jsonpickle==2.2.0', 'jupyter==1.0.0', 'jupyter-console==6.4.4', 'jupyterlab-widgets==3.0.3', 'kiwisolver==1.4.4', 'knack==0.9.0', 'lightfm==1.16', 'lightgbm==3.3.2', 'llvmlite==0.39.1', 'locust==1.6.0', 'mako==1.2.2', 'marshmallow==3.18.0', 'matplotlib==3.5.3', 'memory-profiler==0.60.0', 'mlflow==1.28.0', 'mlflow-skinny==1.28.0', 'mltable==0.1.0b4', 'mpmath==1.2.1', 'msal==1.18.0', 'msal-extensions==0.3.1', 'msgpack==1.0.4', 'msrest==0.7.1', 'msrestazure==0.6.4', 'mypy-extensions==0.4.3', 'ndg-httpsclient==0.5.1', 'networkx==2.8.6', 'nltk==3.7', 'numba==0.56.2', 'numpy==1.23.3', 'oauthlib==3.2.1', 'pandas==1.4.4', 'pandera==0.12.0', 'papermill==2.4.0', 'paramiko==2.11.0', 'pathspec==0.9.0', 'patsy==0.5.2', 'pillow==9.2.0', 'pip==22.2.2', 'pkginfo==1.8.3', 'portalocker==2.5.1', 'powerlaw==1.5', 'prometheus-flask-exporter==0.20.3', 'protobuf==4.21.6', 'py4j==0.10.9.7', 'pyarrow==6.0.0', 'pyasn1==0.4.8', 'pydantic==1.10.2', 'pydash==4.9.0', 'pyjwt==2.4.0', 'pynacl==1.5.0', 'pyopenssl==22.0.0', 'pysocks==1.7.1', 'pytz==2022.2.1', 'pyyaml==5.4.1', 'qtconsole==5.3.2', 'qtpy==2.2.0', 'querystring-parser==1.2.4', 'recommenders==1.1.1', 'regex==2022.9.13', 'requests==2.28.1', 'requests-oauthlib==1.3.1', 'retrying==1.3.3', 'scikit-learn==1.0.2', 'scikit-surprise==1.1.2', 'scipy==1.9.1', 'scrapbook==0.5.0', 'seaborn==0.12.0', 'secretstorage==3.3.3', 'setuptools==59.8.0', 'smmap==5.0.0', 'sortedcontainers==2.4.0', 'sqlalchemy==1.4.41', 'sqlparse==0.4.2', 'statsmodels==0.13.2', 'strictyaml==1.6.1', 'tabulate==0.8.10', 'tenacity==8.0.1', 'textwrap3==0.9.2', 'threadpoolctl==3.1.0', 'tokenizers==0.12.1', 'tqdm==4.63.0', 'transformers==4.22.0', 'typing-inspect==0.8.0', 'urllib3==1.26.12', 'websocket-client==1.4.1', 'werkzeug==2.2.2', 'widgetsnbextension==4.0.3', 'wrapt==1.14.1', 'zipp==3.8.1', 'zope-event==4.5.0', 'zope-interface==5.4.0']}], 'name': 'sarenv', 'prefix': '/anaconda/envs/sarenv'}, 'image': 'mcr.microsoft.com/azureml/openmpi4.1.0-ubuntu20.04', 'build': None, 'inference_config': None, 'os_type': 'Linux', 'arm_type': 'environment_version', 'conda_file_path': None, 'path': None, 'upload_hash': None, 'translated_conda_file': None})"
      ]
     },
     "execution_count": 64,
     "metadata": {},
     "output_type": "execute_result"
    }
   ],
   "source": [
    "env_docker_conda = Environment(\n",
    "    image=\"mcr.microsoft.com/azureml/openmpi4.1.0-ubuntu20.04\",\n",
    "    conda_file=\"../environment.yml\",\n",
    "    name=\"docker-image-plus-conda-example\",\n",
    "    description=\"Environment created from a Docker image plus Conda environment.\",\n",
    ")\n",
    "ml_client.environments.create_or_update(env_docker_conda)"
   ]
  },
  {
   "cell_type": "code",
   "execution_count": 65,
   "metadata": {},
   "outputs": [
    {
     "name": "stderr",
     "output_type": "stream",
     "text": [
      "\u001b[32mUploading movielens-sar (0.96 MBs): 100%|█████████████████████████████████████████████████████████████████████████████████████████████████████████████████████████████████████████████████████████████████████████████████████████████████████████████████████████████████████████████████████████████████████████████████████████████████████████████████████████████████████████████████████████████████████████████████████████████████████████████████████████████████████████████████████████████████████████████████████████████████████████████████████████████████████████████████████████████████████████████████████████████████████████████████████████████████████████████████████████████████████████████████████████████████████████████████████████████████████████████████████████████████████████████████████████████████████████████████████████████████████████████████████████████████████████████████████████████████████████████████████████████████████████████████| 963280/963280 [00:00<00:00, 2128226.56it/s]\u001b[0m\n",
      "\u001b[39m\n",
      "\n"
     ]
    },
    {
     "data": {
      "text/plain": [
       "'https://ml.azure.com/runs/busy_carpet_yfnhmwqp7l?wsid=/subscriptions/b068fa50-ccf9-4b66-88e6-659b8f777d02/resourcegroups/ActivateAzureML-RG/workspaces/ActivateAzureML-WS&tid=72f988bf-86f1-41af-91ab-2d7cd011db47'"
      ]
     },
     "execution_count": 65,
     "metadata": {},
     "output_type": "execute_result"
    }
   ],
   "source": [
    "from azure.ai.ml import command\n",
    "from azure.ai.ml.entities import Data, Environment\n",
    "from azure.ai.ml import Input\n",
    "from azure.ai.ml.constants import AssetTypes\n",
    "from azure.ai.ml import MLClient\n",
    "\n",
    "\n",
    "# Possible Asset Types for Data:\n",
    "# AssetTypes.URI_FILE\n",
    "# AssetTypes.URI_FOLDER\n",
    "# AssetTypes.MLTABLE\n",
    "\n",
    "# Possible Paths for Data:\n",
    "# Blob: https://<account_name>.blob.core.windows.net/<container_name>/<folder>/<file>\n",
    "# Datastore: azureml://datastores/paths/<folder>/<file>\n",
    "# Data Asset: azureml:<my_data>:<version>\n",
    "\n",
    "my_job_inputs = {\n",
    "    'data_folder': Input(type=AssetTypes.URI_FILE, path=my_path, mode='ro_mount'),\n",
    "    'data_file': 'movielens/' + data_file_name,\n",
    "    'top_k': TOP_K,\n",
    "    'data_size': MOVIELENS_DATA_SIZE\n",
    "}\n",
    "\n",
    "job = command(\n",
    "    code=SCRIPT_DIR,  # local path where the code is stored\n",
    "    command=\"python ${{inputs.data_folder}} ${{inputs.data_file}} ${{inputs.top_k}} ${{inputs.data_size}} train.py\",\n",
    "    inputs=my_job_inputs,\n",
    "    environment=\"docker-image-plus-conda-example:1\",\n",
    "    compute=\"cpu-cluster\",\n",
    ")\n",
    "\n",
    "# submit the command\n",
    "returned_job = ml_client.jobs.create_or_update(job)\n",
    "# get a URL for the status of the job\n",
    "returned_job.services[\"Studio\"].endpoint"
   ]
  },
  {
   "cell_type": "code",
   "execution_count": null,
   "metadata": {},
   "outputs": [],
   "source": []
  }
 ],
 "metadata": {
  "kernelspec": {
   "display_name": "Python 3.9.4 ('sarenv')",
   "language": "python",
   "name": "python3"
  },
  "language_info": {
   "codemirror_mode": {
    "name": "ipython",
    "version": 3
   },
   "file_extension": ".py",
   "mimetype": "text/x-python",
   "name": "python",
   "nbconvert_exporter": "python",
   "pygments_lexer": "ipython3",
   "version": "3.9.4"
  },
  "orig_nbformat": 4,
  "vscode": {
   "interpreter": {
    "hash": "5d1dc0c6ebccc618f20f406c6b9a1c170b665a9e13075074eb4da1fdf4a9bad5"
   }
  }
 },
 "nbformat": 4,
 "nbformat_minor": 2
}
